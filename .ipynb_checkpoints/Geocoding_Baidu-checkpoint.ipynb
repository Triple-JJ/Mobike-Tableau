{
 "cells": [
  {
   "cell_type": "markdown",
   "metadata": {
    "toc-hr-collapsed": false
   },
   "source": [
    "# 获取起始点所在地"
   ]
  },
  {
   "cell_type": "markdown",
   "metadata": {},
   "source": [
    "### 项目初始化及相关数据导入"
   ]
  },
  {
   "cell_type": "code",
   "execution_count": 1,
   "metadata": {},
   "outputs": [
    {
     "data": {
      "text/plain": [
       "'C:\\\\Users\\\\willl\\\\OneDrive - WillfortheFuture\\\\My Documents\\\\Study\\\\Python\\\\Udacity\\\\DA Advanced\\\\P5-Tableau'"
      ]
     },
     "execution_count": 1,
     "metadata": {},
     "output_type": "execute_result"
    }
   ],
   "source": [
    "import numpy as np\n",
    "import pandas as pd\n",
    "import datetime as dt\n",
    "\n",
    "# 计算订单距离\n",
    "from geopy.distance import distance\n",
    "\n",
    "# 获取文件现在的路径，用于文件储存\n",
    "import os\n",
    "os.getcwd()"
   ]
  },
  {
   "cell_type": "code",
   "execution_count": 2,
   "metadata": {},
   "outputs": [
    {
     "name": "stdout",
     "output_type": "stream",
     "text": [
      "{'User-Agent': 'mobike'}\n",
      "60000\n"
     ]
    }
   ],
   "source": [
    "import geopy.geocoders\n",
    "# from geopy.geocoders import Nominatim\n",
    "from geopy.geocoders import Baidu\n",
    "geopy.geocoders.options.default_user_agent = 'mobike'\n",
    "geopy.geocoders.options.default_timeout = 60000\n",
    "# geolocator = Nominatim()\n",
    "geolocator = Baidu(api_key='####################') # fake\n",
    "print(geolocator.headers)\n",
    "print(geolocator.timeout)\n"
   ]
  },
  {
   "cell_type": "code",
   "execution_count": 3,
   "metadata": {},
   "outputs": [],
   "source": [
    "# from geopy.extra.rate_limiter import RateLimiter\n",
    "# reverse = RateLimiter(geolocator.reverse, min_delay_seconds=0.01)"
   ]
  },
  {
   "cell_type": "code",
   "execution_count": 4,
   "metadata": {},
   "outputs": [],
   "source": [
    "order_location = pd.read_csv('py_order_location_unfinished.csv')"
   ]
  },
  {
   "cell_type": "code",
   "execution_count": 5,
   "metadata": {},
   "outputs": [
    {
     "data": {
      "text/html": [
       "<div>\n",
       "<style scoped>\n",
       "    .dataframe tbody tr th:only-of-type {\n",
       "        vertical-align: middle;\n",
       "    }\n",
       "\n",
       "    .dataframe tbody tr th {\n",
       "        vertical-align: top;\n",
       "    }\n",
       "\n",
       "    .dataframe thead th {\n",
       "        text-align: right;\n",
       "    }\n",
       "</style>\n",
       "<table border=\"1\" class=\"dataframe\">\n",
       "  <thead>\n",
       "    <tr style=\"text-align: right;\">\n",
       "      <th></th>\n",
       "      <th>orderid</th>\n",
       "      <th>first_x</th>\n",
       "      <th>first_y</th>\n",
       "      <th>last_x</th>\n",
       "      <th>last_y</th>\n",
       "    </tr>\n",
       "  </thead>\n",
       "  <tbody>\n",
       "    <tr>\n",
       "      <th>0</th>\n",
       "      <td>78387</td>\n",
       "      <td>121.347</td>\n",
       "      <td>31.392</td>\n",
       "      <td>121.357</td>\n",
       "      <td>31.389</td>\n",
       "    </tr>\n",
       "    <tr>\n",
       "      <th>1</th>\n",
       "      <td>891333</td>\n",
       "      <td>121.489</td>\n",
       "      <td>31.270</td>\n",
       "      <td>121.508</td>\n",
       "      <td>31.279</td>\n",
       "    </tr>\n",
       "    <tr>\n",
       "      <th>2</th>\n",
       "      <td>1106623</td>\n",
       "      <td>121.381</td>\n",
       "      <td>31.251</td>\n",
       "      <td>121.407</td>\n",
       "      <td>31.249</td>\n",
       "    </tr>\n",
       "    <tr>\n",
       "      <th>3</th>\n",
       "      <td>1389484</td>\n",
       "      <td>121.471</td>\n",
       "      <td>31.325</td>\n",
       "      <td>121.484</td>\n",
       "      <td>31.320</td>\n",
       "    </tr>\n",
       "  </tbody>\n",
       "</table>\n",
       "</div>"
      ],
      "text/plain": [
       "   orderid  first_x  first_y   last_x  last_y\n",
       "0    78387  121.347   31.392  121.357  31.389\n",
       "1   891333  121.489   31.270  121.508  31.279\n",
       "2  1106623  121.381   31.251  121.407  31.249\n",
       "3  1389484  121.471   31.325  121.484  31.320"
      ]
     },
     "execution_count": 5,
     "metadata": {},
     "output_type": "execute_result"
    }
   ],
   "source": [
    "# test\n",
    "order_location.head(4)"
   ]
  },
  {
   "cell_type": "code",
   "execution_count": 6,
   "metadata": {},
   "outputs": [
    {
     "name": "stdout",
     "output_type": "stream",
     "text": [
      "<class 'pandas.core.frame.DataFrame'>\n",
      "RangeIndex: 102361 entries, 0 to 102360\n",
      "Data columns (total 5 columns):\n",
      "orderid    102361 non-null int64\n",
      "first_x    102361 non-null float64\n",
      "first_y    102361 non-null float64\n",
      "last_x     102361 non-null float64\n",
      "last_y     102361 non-null float64\n",
      "dtypes: float64(4), int64(1)\n",
      "memory usage: 3.9 MB\n"
     ]
    }
   ],
   "source": [
    "order_location.info()"
   ]
  },
  {
   "cell_type": "markdown",
   "metadata": {},
   "source": [
    "### 子数据集地理逆编码"
   ]
  },
  {
   "cell_type": "markdown",
   "metadata": {},
   "source": [
    "#### 单条坐标测试"
   ]
  },
  {
   "cell_type": "code",
   "execution_count": 10,
   "metadata": {},
   "outputs": [],
   "source": [
    "# geolocator = Baidu(api_key='uL9g0LGEf5wWeRu32FvlLZVuachPlNuV')"
   ]
  },
  {
   "cell_type": "code",
   "execution_count": 11,
   "metadata": {},
   "outputs": [
    {
     "name": "stdout",
     "output_type": "stream",
     "text": [
      "上海市宝山区美安路\n"
     ]
    }
   ],
   "source": [
    "# https://stackoverflow.com/questions/35595012/trouble-converting-to-utf-8\n",
    "a = geolocator.reverse((31.392, 121.347)).address.decode('utf-8')\n",
    "print(a)"
   ]
  },
  {
   "cell_type": "markdown",
   "metadata": {},
   "source": [
    "#### 小数据集测试"
   ]
  },
  {
   "cell_type": "code",
   "execution_count": 12,
   "metadata": {},
   "outputs": [],
   "source": [
    "order_location0 = order_location.head(3)\n",
    "order_location0 = order_location0.copy()\n",
    "order_location0['start_loc'] = order_location0.apply(lambda x: geolocator.reverse(query=(x[2], x[1])).address.decode('utf-8'), axis = 1)"
   ]
  },
  {
   "cell_type": "code",
   "execution_count": 13,
   "metadata": {},
   "outputs": [
    {
     "data": {
      "text/html": [
       "<div>\n",
       "<style scoped>\n",
       "    .dataframe tbody tr th:only-of-type {\n",
       "        vertical-align: middle;\n",
       "    }\n",
       "\n",
       "    .dataframe tbody tr th {\n",
       "        vertical-align: top;\n",
       "    }\n",
       "\n",
       "    .dataframe thead th {\n",
       "        text-align: right;\n",
       "    }\n",
       "</style>\n",
       "<table border=\"1\" class=\"dataframe\">\n",
       "  <thead>\n",
       "    <tr style=\"text-align: right;\">\n",
       "      <th></th>\n",
       "      <th>orderid</th>\n",
       "      <th>first_x</th>\n",
       "      <th>first_y</th>\n",
       "      <th>last_x</th>\n",
       "      <th>last_y</th>\n",
       "      <th>start_loc</th>\n",
       "    </tr>\n",
       "  </thead>\n",
       "  <tbody>\n",
       "    <tr>\n",
       "      <th>0</th>\n",
       "      <td>78387</td>\n",
       "      <td>121.347</td>\n",
       "      <td>31.392</td>\n",
       "      <td>121.357</td>\n",
       "      <td>31.389</td>\n",
       "      <td>上海市宝山区美安路</td>\n",
       "    </tr>\n",
       "    <tr>\n",
       "      <th>1</th>\n",
       "      <td>891333</td>\n",
       "      <td>121.489</td>\n",
       "      <td>31.270</td>\n",
       "      <td>121.508</td>\n",
       "      <td>31.279</td>\n",
       "      <td>上海市虹口区四川北路2075号</td>\n",
       "    </tr>\n",
       "    <tr>\n",
       "      <th>2</th>\n",
       "      <td>1106623</td>\n",
       "      <td>121.381</td>\n",
       "      <td>31.251</td>\n",
       "      <td>121.407</td>\n",
       "      <td>31.249</td>\n",
       "      <td>上海市嘉定区吉镇路</td>\n",
       "    </tr>\n",
       "  </tbody>\n",
       "</table>\n",
       "</div>"
      ],
      "text/plain": [
       "   orderid  first_x  first_y   last_x  last_y        start_loc\n",
       "0    78387  121.347   31.392  121.357  31.389        上海市宝山区美安路\n",
       "1   891333  121.489   31.270  121.508  31.279  上海市虹口区四川北路2075号\n",
       "2  1106623  121.381   31.251  121.407  31.249        上海市嘉定区吉镇路"
      ]
     },
     "execution_count": 13,
     "metadata": {},
     "output_type": "execute_result"
    }
   ],
   "source": [
    "order_location0"
   ]
  },
  {
   "cell_type": "markdown",
   "metadata": {},
   "source": [
    "#### 子数据集1"
   ]
  },
  {
   "cell_type": "code",
   "execution_count": 16,
   "metadata": {},
   "outputs": [
    {
     "name": "stdout",
     "output_type": "stream",
     "text": [
      "<class 'pandas.core.frame.DataFrame'>\n",
      "RangeIndex: 10000 entries, 0 to 9999\n",
      "Data columns (total 5 columns):\n",
      "orderid    10000 non-null int64\n",
      "first_x    10000 non-null float64\n",
      "first_y    10000 non-null float64\n",
      "last_x     10000 non-null float64\n",
      "last_y     10000 non-null float64\n",
      "dtypes: float64(4), int64(1)\n",
      "memory usage: 390.7 KB\n"
     ]
    }
   ],
   "source": [
    "order_location_s1 = order_location.iloc[0:10000, :]\n",
    "order_location_s1 = order_location_s1.copy()\n",
    "order_location_s1.info()"
   ]
  },
  {
   "cell_type": "code",
   "execution_count": 17,
   "metadata": {},
   "outputs": [],
   "source": [
    "order_location_s1['start_loc'] = order_location_s1.apply(lambda x: geolocator.reverse(query=(x[2], x[1])).address.decode('utf-8'), axis = 1)"
   ]
  },
  {
   "cell_type": "code",
   "execution_count": 18,
   "metadata": {},
   "outputs": [],
   "source": [
    "order_location_s1.to_csv('py_order_location_s1.csv', na_rep='Null', header=True, index=False)"
   ]
  },
  {
   "cell_type": "code",
   "execution_count": 19,
   "metadata": {},
   "outputs": [],
   "source": [
    "order_location_s1['end_loc'] = order_location_s1.apply(lambda x: geolocator.reverse(query=(x[4], x[3])).address.decode('utf-8'), axis = 1)"
   ]
  },
  {
   "cell_type": "code",
   "execution_count": 20,
   "metadata": {},
   "outputs": [],
   "source": [
    "order_location_s1.to_csv('py_order_location_s1.csv', na_rep='Null', header=True, index=False)"
   ]
  },
  {
   "cell_type": "code",
   "execution_count": 21,
   "metadata": {},
   "outputs": [
    {
     "data": {
      "text/html": [
       "<div>\n",
       "<style scoped>\n",
       "    .dataframe tbody tr th:only-of-type {\n",
       "        vertical-align: middle;\n",
       "    }\n",
       "\n",
       "    .dataframe tbody tr th {\n",
       "        vertical-align: top;\n",
       "    }\n",
       "\n",
       "    .dataframe thead th {\n",
       "        text-align: right;\n",
       "    }\n",
       "</style>\n",
       "<table border=\"1\" class=\"dataframe\">\n",
       "  <thead>\n",
       "    <tr style=\"text-align: right;\">\n",
       "      <th></th>\n",
       "      <th>orderid</th>\n",
       "      <th>first_x</th>\n",
       "      <th>first_y</th>\n",
       "      <th>last_x</th>\n",
       "      <th>last_y</th>\n",
       "      <th>start_loc</th>\n",
       "      <th>end_loc</th>\n",
       "    </tr>\n",
       "  </thead>\n",
       "  <tbody>\n",
       "    <tr>\n",
       "      <th>0</th>\n",
       "      <td>78387</td>\n",
       "      <td>121.347</td>\n",
       "      <td>31.392</td>\n",
       "      <td>121.357</td>\n",
       "      <td>31.389</td>\n",
       "      <td>上海市宝山区美安路</td>\n",
       "      <td>上海市宝山区金中路</td>\n",
       "    </tr>\n",
       "    <tr>\n",
       "      <th>1</th>\n",
       "      <td>891333</td>\n",
       "      <td>121.489</td>\n",
       "      <td>31.270</td>\n",
       "      <td>121.508</td>\n",
       "      <td>31.279</td>\n",
       "      <td>上海市虹口区四川北路2075号</td>\n",
       "      <td>上海市虹口区阜新路180弄1号西</td>\n",
       "    </tr>\n",
       "    <tr>\n",
       "      <th>2</th>\n",
       "      <td>1106623</td>\n",
       "      <td>121.381</td>\n",
       "      <td>31.251</td>\n",
       "      <td>121.407</td>\n",
       "      <td>31.249</td>\n",
       "      <td>上海市嘉定区吉镇路</td>\n",
       "      <td>上海市普陀区杨柳青路</td>\n",
       "    </tr>\n",
       "    <tr>\n",
       "      <th>3</th>\n",
       "      <td>1389484</td>\n",
       "      <td>121.471</td>\n",
       "      <td>31.325</td>\n",
       "      <td>121.484</td>\n",
       "      <td>31.320</td>\n",
       "      <td>上海市闸北区阳泉路693号</td>\n",
       "      <td>上海市虹口区安汾路588号</td>\n",
       "    </tr>\n",
       "    <tr>\n",
       "      <th>4</th>\n",
       "      <td>188537</td>\n",
       "      <td>121.407</td>\n",
       "      <td>31.291</td>\n",
       "      <td>121.418</td>\n",
       "      <td>31.288</td>\n",
       "      <td>上海市普陀区汶水路</td>\n",
       "      <td>上海市宝山区真华路1376号</td>\n",
       "    </tr>\n",
       "  </tbody>\n",
       "</table>\n",
       "</div>"
      ],
      "text/plain": [
       "   orderid  first_x  first_y   last_x  last_y        start_loc  \\\n",
       "0    78387  121.347   31.392  121.357  31.389        上海市宝山区美安路   \n",
       "1   891333  121.489   31.270  121.508  31.279  上海市虹口区四川北路2075号   \n",
       "2  1106623  121.381   31.251  121.407  31.249        上海市嘉定区吉镇路   \n",
       "3  1389484  121.471   31.325  121.484  31.320    上海市闸北区阳泉路693号   \n",
       "4   188537  121.407   31.291  121.418  31.288        上海市普陀区汶水路   \n",
       "\n",
       "            end_loc  \n",
       "0         上海市宝山区金中路  \n",
       "1  上海市虹口区阜新路180弄1号西  \n",
       "2        上海市普陀区杨柳青路  \n",
       "3     上海市虹口区安汾路588号  \n",
       "4    上海市宝山区真华路1376号  "
      ]
     },
     "execution_count": 21,
     "metadata": {},
     "output_type": "execute_result"
    }
   ],
   "source": [
    "order_location_s1.head()"
   ]
  },
  {
   "cell_type": "markdown",
   "metadata": {},
   "source": [
    "#### 子数据集2"
   ]
  },
  {
   "cell_type": "code",
   "execution_count": 23,
   "metadata": {},
   "outputs": [
    {
     "name": "stdout",
     "output_type": "stream",
     "text": [
      "<class 'pandas.core.frame.DataFrame'>\n",
      "RangeIndex: 10000 entries, 10000 to 19999\n",
      "Data columns (total 5 columns):\n",
      "orderid    10000 non-null int64\n",
      "first_x    10000 non-null float64\n",
      "first_y    10000 non-null float64\n",
      "last_x     10000 non-null float64\n",
      "last_y     10000 non-null float64\n",
      "dtypes: float64(4), int64(1)\n",
      "memory usage: 390.7 KB\n"
     ]
    }
   ],
   "source": [
    "order_location_s2 = order_location.iloc[10000:20000, :]\n",
    "order_location_s2 = order_location_s2.copy()\n",
    "order_location_s2.info()"
   ]
  },
  {
   "cell_type": "code",
   "execution_count": 24,
   "metadata": {},
   "outputs": [],
   "source": [
    "order_location_s2['start_loc'] = order_location_s2.apply(lambda x: geolocator.reverse(query=(x[2], x[1])).address.decode('utf-8'), axis = 1)"
   ]
  },
  {
   "cell_type": "code",
   "execution_count": 25,
   "metadata": {},
   "outputs": [],
   "source": [
    "order_location_s2.to_csv('py_order_location_s2.csv', na_rep='Null', header=True, index=False)"
   ]
  },
  {
   "cell_type": "code",
   "execution_count": 26,
   "metadata": {},
   "outputs": [],
   "source": [
    "order_location_s2['end_loc'] = order_location_s2.apply(lambda x: geolocator.reverse(query=(x[4], x[3])).address.decode('utf-8'), axis = 1)"
   ]
  },
  {
   "cell_type": "code",
   "execution_count": 27,
   "metadata": {},
   "outputs": [],
   "source": [
    "order_location_s2.to_csv('py_order_location_s2.csv', na_rep='Null', header=True, index=False)"
   ]
  },
  {
   "cell_type": "markdown",
   "metadata": {},
   "source": [
    "#### 子数据集3"
   ]
  },
  {
   "cell_type": "code",
   "execution_count": 28,
   "metadata": {},
   "outputs": [
    {
     "name": "stdout",
     "output_type": "stream",
     "text": [
      "<class 'pandas.core.frame.DataFrame'>\n",
      "RangeIndex: 10000 entries, 20000 to 29999\n",
      "Data columns (total 5 columns):\n",
      "orderid    10000 non-null int64\n",
      "first_x    10000 non-null float64\n",
      "first_y    10000 non-null float64\n",
      "last_x     10000 non-null float64\n",
      "last_y     10000 non-null float64\n",
      "dtypes: float64(4), int64(1)\n",
      "memory usage: 390.7 KB\n"
     ]
    }
   ],
   "source": [
    "order_location_s3 = order_location.iloc[20000:30000, :]\n",
    "order_location_s3 = order_location_s3.copy()\n",
    "order_location_s3.info()"
   ]
  },
  {
   "cell_type": "code",
   "execution_count": 29,
   "metadata": {},
   "outputs": [],
   "source": [
    "order_location_s3['start_loc'] =order_location_s3.apply(lambda x: geolocator.reverse(query=(x[2], x[1])).address.decode('utf-8'), axis = 1)"
   ]
  },
  {
   "cell_type": "code",
   "execution_count": 30,
   "metadata": {},
   "outputs": [],
   "source": [
    "order_location_s3.to_csv('py_order_location_s3.csv', na_rep='Null', header=True, index=False)"
   ]
  },
  {
   "cell_type": "code",
   "execution_count": 31,
   "metadata": {},
   "outputs": [],
   "source": [
    "order_location_s3['end_loc'] = order_location_s3.apply(lambda x: geolocator.reverse(query=(x[4], x[3])).address.decode('utf-8'), axis = 1)"
   ]
  },
  {
   "cell_type": "code",
   "execution_count": 32,
   "metadata": {},
   "outputs": [],
   "source": [
    "order_location_s3.to_csv('py_order_location_s3.csv', na_rep='Null', header=True, index=False)"
   ]
  },
  {
   "cell_type": "code",
   "execution_count": 33,
   "metadata": {},
   "outputs": [
    {
     "data": {
      "text/html": [
       "<div>\n",
       "<style scoped>\n",
       "    .dataframe tbody tr th:only-of-type {\n",
       "        vertical-align: middle;\n",
       "    }\n",
       "\n",
       "    .dataframe tbody tr th {\n",
       "        vertical-align: top;\n",
       "    }\n",
       "\n",
       "    .dataframe thead th {\n",
       "        text-align: right;\n",
       "    }\n",
       "</style>\n",
       "<table border=\"1\" class=\"dataframe\">\n",
       "  <thead>\n",
       "    <tr style=\"text-align: right;\">\n",
       "      <th></th>\n",
       "      <th>orderid</th>\n",
       "      <th>first_x</th>\n",
       "      <th>first_y</th>\n",
       "      <th>last_x</th>\n",
       "      <th>last_y</th>\n",
       "      <th>start_loc</th>\n",
       "      <th>end_loc</th>\n",
       "    </tr>\n",
       "  </thead>\n",
       "  <tbody>\n",
       "    <tr>\n",
       "      <th>20000</th>\n",
       "      <td>167183</td>\n",
       "      <td>121.523</td>\n",
       "      <td>31.300</td>\n",
       "      <td>121.538</td>\n",
       "      <td>31.322</td>\n",
       "      <td>上海市杨浦区国定路36-38</td>\n",
       "      <td>上海市杨浦区中原路145号</td>\n",
       "    </tr>\n",
       "    <tr>\n",
       "      <th>20001</th>\n",
       "      <td>1543518</td>\n",
       "      <td>121.366</td>\n",
       "      <td>31.251</td>\n",
       "      <td>121.374</td>\n",
       "      <td>31.254</td>\n",
       "      <td>上海市嘉定区清峪路991号</td>\n",
       "      <td>上海市嘉定区延川路475号</td>\n",
       "    </tr>\n",
       "    <tr>\n",
       "      <th>20002</th>\n",
       "      <td>1021003</td>\n",
       "      <td>121.475</td>\n",
       "      <td>31.296</td>\n",
       "      <td>121.484</td>\n",
       "      <td>31.295</td>\n",
       "      <td>上海市虹口区凉城路539弄-20号</td>\n",
       "      <td>上海市虹口区水电路1170号</td>\n",
       "    </tr>\n",
       "    <tr>\n",
       "      <th>20003</th>\n",
       "      <td>1793504</td>\n",
       "      <td>121.652</td>\n",
       "      <td>31.273</td>\n",
       "      <td>121.667</td>\n",
       "      <td>31.273</td>\n",
       "      <td>上海市浦东新区陈邵路</td>\n",
       "      <td>上海市浦东新区金海路2712号</td>\n",
       "    </tr>\n",
       "    <tr>\n",
       "      <th>20004</th>\n",
       "      <td>198425</td>\n",
       "      <td>121.390</td>\n",
       "      <td>31.205</td>\n",
       "      <td>121.401</td>\n",
       "      <td>31.199</td>\n",
       "      <td>上海市长宁区中环路</td>\n",
       "      <td>上海市长宁区水城南路14号</td>\n",
       "    </tr>\n",
       "  </tbody>\n",
       "</table>\n",
       "</div>"
      ],
      "text/plain": [
       "       orderid  first_x  first_y   last_x  last_y          start_loc  \\\n",
       "20000   167183  121.523   31.300  121.538  31.322     上海市杨浦区国定路36-38   \n",
       "20001  1543518  121.366   31.251  121.374  31.254      上海市嘉定区清峪路991号   \n",
       "20002  1021003  121.475   31.296  121.484  31.295  上海市虹口区凉城路539弄-20号   \n",
       "20003  1793504  121.652   31.273  121.667  31.273         上海市浦东新区陈邵路   \n",
       "20004   198425  121.390   31.205  121.401  31.199          上海市长宁区中环路   \n",
       "\n",
       "               end_loc  \n",
       "20000    上海市杨浦区中原路145号  \n",
       "20001    上海市嘉定区延川路475号  \n",
       "20002   上海市虹口区水电路1170号  \n",
       "20003  上海市浦东新区金海路2712号  \n",
       "20004    上海市长宁区水城南路14号  "
      ]
     },
     "execution_count": 33,
     "metadata": {},
     "output_type": "execute_result"
    }
   ],
   "source": [
    "order_location_s3.head()"
   ]
  },
  {
   "cell_type": "markdown",
   "metadata": {},
   "source": [
    "#### 子数据集4"
   ]
  },
  {
   "cell_type": "code",
   "execution_count": 34,
   "metadata": {},
   "outputs": [
    {
     "name": "stdout",
     "output_type": "stream",
     "text": [
      "<class 'pandas.core.frame.DataFrame'>\n",
      "RangeIndex: 10000 entries, 30000 to 39999\n",
      "Data columns (total 5 columns):\n",
      "orderid    10000 non-null int64\n",
      "first_x    10000 non-null float64\n",
      "first_y    10000 non-null float64\n",
      "last_x     10000 non-null float64\n",
      "last_y     10000 non-null float64\n",
      "dtypes: float64(4), int64(1)\n",
      "memory usage: 390.7 KB\n"
     ]
    }
   ],
   "source": [
    "order_location_s4 = order_location.iloc[30000:40000, :]\n",
    "order_location_s4 = order_location_s4.copy()\n",
    "order_location_s4.info()"
   ]
  },
  {
   "cell_type": "code",
   "execution_count": 35,
   "metadata": {},
   "outputs": [],
   "source": [
    "order_location_s4['start_loc'] =order_location_s4.apply(lambda x: geolocator.reverse(query=(x[2], x[1])).address.decode('utf-8'), axis = 1)"
   ]
  },
  {
   "cell_type": "code",
   "execution_count": 36,
   "metadata": {},
   "outputs": [],
   "source": [
    "order_location_s4.to_csv('py_order_location_s4.csv', na_rep='Null', header=True, index=False)"
   ]
  },
  {
   "cell_type": "code",
   "execution_count": 37,
   "metadata": {},
   "outputs": [],
   "source": [
    "order_location_s4['end_loc'] = order_location_s4.apply(lambda x: geolocator.reverse(query=(x[4], x[3])).address.decode('utf-8'), axis = 1)"
   ]
  },
  {
   "cell_type": "code",
   "execution_count": 38,
   "metadata": {},
   "outputs": [],
   "source": [
    "order_location_s4.to_csv('py_order_location_s4.csv', na_rep='Null', header=True, index=False)"
   ]
  },
  {
   "cell_type": "markdown",
   "metadata": {},
   "source": [
    "#### 子数据集5"
   ]
  },
  {
   "cell_type": "code",
   "execution_count": 39,
   "metadata": {},
   "outputs": [
    {
     "name": "stdout",
     "output_type": "stream",
     "text": [
      "<class 'pandas.core.frame.DataFrame'>\n",
      "RangeIndex: 10000 entries, 40000 to 49999\n",
      "Data columns (total 5 columns):\n",
      "orderid    10000 non-null int64\n",
      "first_x    10000 non-null float64\n",
      "first_y    10000 non-null float64\n",
      "last_x     10000 non-null float64\n",
      "last_y     10000 non-null float64\n",
      "dtypes: float64(4), int64(1)\n",
      "memory usage: 390.7 KB\n"
     ]
    }
   ],
   "source": [
    "order_location_s5 = order_location.iloc[40000:50000, :]\n",
    "order_location_s5 = order_location_s5.copy()\n",
    "order_location_s5.info()"
   ]
  },
  {
   "cell_type": "code",
   "execution_count": 40,
   "metadata": {},
   "outputs": [],
   "source": [
    "order_location_s5['start_loc'] =order_location_s5.apply(lambda x: geolocator.reverse(query=(x[2], x[1])).address.decode('utf-8'), axis = 1)"
   ]
  },
  {
   "cell_type": "code",
   "execution_count": 41,
   "metadata": {},
   "outputs": [],
   "source": [
    "order_location_s5.to_csv('py_order_location_s5.csv', na_rep='Null', header=True, index=False)"
   ]
  },
  {
   "cell_type": "code",
   "execution_count": 42,
   "metadata": {},
   "outputs": [],
   "source": [
    "order_location_s5['end_loc'] = order_location_s5.apply(lambda x: geolocator.reverse(query=(x[4], x[3])).address.decode('utf-8'), axis = 1)"
   ]
  },
  {
   "cell_type": "code",
   "execution_count": 43,
   "metadata": {},
   "outputs": [],
   "source": [
    "order_location_s5.to_csv('py_order_location_s5.csv', na_rep='Null', header=True, index=False)"
   ]
  },
  {
   "cell_type": "markdown",
   "metadata": {},
   "source": [
    "#### 子数据集6"
   ]
  },
  {
   "cell_type": "code",
   "execution_count": 44,
   "metadata": {},
   "outputs": [
    {
     "name": "stdout",
     "output_type": "stream",
     "text": [
      "<class 'pandas.core.frame.DataFrame'>\n",
      "RangeIndex: 10000 entries, 50000 to 59999\n",
      "Data columns (total 5 columns):\n",
      "orderid    10000 non-null int64\n",
      "first_x    10000 non-null float64\n",
      "first_y    10000 non-null float64\n",
      "last_x     10000 non-null float64\n",
      "last_y     10000 non-null float64\n",
      "dtypes: float64(4), int64(1)\n",
      "memory usage: 390.7 KB\n"
     ]
    }
   ],
   "source": [
    "order_location_s6 = order_location.iloc[50000:60000, :]\n",
    "order_location_s6 = order_location_s6.copy()\n",
    "order_location_s6.info()"
   ]
  },
  {
   "cell_type": "code",
   "execution_count": 46,
   "metadata": {},
   "outputs": [],
   "source": [
    "order_location_s6['start_loc'] =order_location_s6.apply(lambda x: geolocator.reverse(query=(x[2], x[1])).address.decode('utf-8'), axis = 1)"
   ]
  },
  {
   "cell_type": "code",
   "execution_count": 47,
   "metadata": {},
   "outputs": [],
   "source": [
    "order_location_s6.to_csv('py_order_location_s6.csv', na_rep='Null', header=True, index=False)"
   ]
  },
  {
   "cell_type": "code",
   "execution_count": 48,
   "metadata": {},
   "outputs": [],
   "source": [
    "order_location_s6['end_loc'] = order_location_s6.apply(lambda x: geolocator.reverse(query=(x[4], x[3])).address.decode('utf-8'), axis = 1)"
   ]
  },
  {
   "cell_type": "code",
   "execution_count": 49,
   "metadata": {},
   "outputs": [],
   "source": [
    "order_location_s6.to_csv('py_order_location_s6.csv', na_rep='Null', header=True, index=False)"
   ]
  },
  {
   "cell_type": "markdown",
   "metadata": {},
   "source": [
    "#### 子数据集7"
   ]
  },
  {
   "cell_type": "code",
   "execution_count": 50,
   "metadata": {},
   "outputs": [
    {
     "name": "stdout",
     "output_type": "stream",
     "text": [
      "<class 'pandas.core.frame.DataFrame'>\n",
      "RangeIndex: 10000 entries, 60000 to 69999\n",
      "Data columns (total 5 columns):\n",
      "orderid    10000 non-null int64\n",
      "first_x    10000 non-null float64\n",
      "first_y    10000 non-null float64\n",
      "last_x     10000 non-null float64\n",
      "last_y     10000 non-null float64\n",
      "dtypes: float64(4), int64(1)\n",
      "memory usage: 390.7 KB\n"
     ]
    }
   ],
   "source": [
    "order_location_s7 = order_location.iloc[60000:70000, :]\n",
    "order_location_s7 = order_location_s7.copy()\n",
    "order_location_s7.info()"
   ]
  },
  {
   "cell_type": "code",
   "execution_count": 51,
   "metadata": {},
   "outputs": [],
   "source": [
    "order_location_s7['start_loc'] =order_location_s7.apply(lambda x: geolocator.reverse(query=(x[2], x[1])).address.decode('utf-8'), axis = 1)"
   ]
  },
  {
   "cell_type": "code",
   "execution_count": 52,
   "metadata": {},
   "outputs": [],
   "source": [
    "order_location_s7.to_csv('py_order_location_s7.csv', na_rep='Null', header=True, index=False)"
   ]
  },
  {
   "cell_type": "code",
   "execution_count": 53,
   "metadata": {},
   "outputs": [],
   "source": [
    "order_location_s7['end_loc'] = order_location_s7.apply(lambda x: geolocator.reverse(query=(x[4], x[3])).address.decode('utf-8'), axis = 1)"
   ]
  },
  {
   "cell_type": "code",
   "execution_count": 54,
   "metadata": {},
   "outputs": [],
   "source": [
    "order_location_s7.to_csv('py_order_location_s7.csv', na_rep='Null', header=True, index=False)"
   ]
  },
  {
   "cell_type": "code",
   "execution_count": 55,
   "metadata": {},
   "outputs": [
    {
     "data": {
      "text/html": [
       "<div>\n",
       "<style scoped>\n",
       "    .dataframe tbody tr th:only-of-type {\n",
       "        vertical-align: middle;\n",
       "    }\n",
       "\n",
       "    .dataframe tbody tr th {\n",
       "        vertical-align: top;\n",
       "    }\n",
       "\n",
       "    .dataframe thead th {\n",
       "        text-align: right;\n",
       "    }\n",
       "</style>\n",
       "<table border=\"1\" class=\"dataframe\">\n",
       "  <thead>\n",
       "    <tr style=\"text-align: right;\">\n",
       "      <th></th>\n",
       "      <th>orderid</th>\n",
       "      <th>first_x</th>\n",
       "      <th>first_y</th>\n",
       "      <th>last_x</th>\n",
       "      <th>last_y</th>\n",
       "      <th>start_loc</th>\n",
       "      <th>end_loc</th>\n",
       "    </tr>\n",
       "  </thead>\n",
       "  <tbody>\n",
       "    <tr>\n",
       "      <th>60000</th>\n",
       "      <td>1549169</td>\n",
       "      <td>121.447</td>\n",
       "      <td>31.296</td>\n",
       "      <td>121.455</td>\n",
       "      <td>31.305</td>\n",
       "      <td>上海市闸北区万荣路1050号</td>\n",
       "      <td>上海市闸北区共和新路3400-1号</td>\n",
       "    </tr>\n",
       "    <tr>\n",
       "      <th>60001</th>\n",
       "      <td>848537</td>\n",
       "      <td>121.375</td>\n",
       "      <td>31.271</td>\n",
       "      <td>121.389</td>\n",
       "      <td>31.276</td>\n",
       "      <td>上海市普陀区绥德路</td>\n",
       "      <td>上海市普陀区真南路843号</td>\n",
       "    </tr>\n",
       "    <tr>\n",
       "      <th>60002</th>\n",
       "      <td>1860</td>\n",
       "      <td>121.456</td>\n",
       "      <td>31.123</td>\n",
       "      <td>121.457</td>\n",
       "      <td>31.122</td>\n",
       "      <td>上海市徐汇区长华路755号</td>\n",
       "      <td>上海市徐汇区长华路179号-临</td>\n",
       "    </tr>\n",
       "    <tr>\n",
       "      <th>60003</th>\n",
       "      <td>968134</td>\n",
       "      <td>121.433</td>\n",
       "      <td>31.263</td>\n",
       "      <td>121.450</td>\n",
       "      <td>31.274</td>\n",
       "      <td>上海市普陀区管弄路70号</td>\n",
       "      <td>上海市闸北区沪太路807弄-1号-东</td>\n",
       "    </tr>\n",
       "    <tr>\n",
       "      <th>60004</th>\n",
       "      <td>432712</td>\n",
       "      <td>121.386</td>\n",
       "      <td>31.177</td>\n",
       "      <td>121.396</td>\n",
       "      <td>31.172</td>\n",
       "      <td>上海市闵行区金汇南路60弄-56号-2楼-201室</td>\n",
       "      <td>上海市闵行区新桥路</td>\n",
       "    </tr>\n",
       "  </tbody>\n",
       "</table>\n",
       "</div>"
      ],
      "text/plain": [
       "       orderid  first_x  first_y   last_x  last_y                  start_loc  \\\n",
       "60000  1549169  121.447   31.296  121.455  31.305             上海市闸北区万荣路1050号   \n",
       "60001   848537  121.375   31.271  121.389  31.276                  上海市普陀区绥德路   \n",
       "60002     1860  121.456   31.123  121.457  31.122              上海市徐汇区长华路755号   \n",
       "60003   968134  121.433   31.263  121.450  31.274               上海市普陀区管弄路70号   \n",
       "60004   432712  121.386   31.177  121.396  31.172  上海市闵行区金汇南路60弄-56号-2楼-201室   \n",
       "\n",
       "                  end_loc  \n",
       "60000   上海市闸北区共和新路3400-1号  \n",
       "60001       上海市普陀区真南路843号  \n",
       "60002     上海市徐汇区长华路179号-临  \n",
       "60003  上海市闸北区沪太路807弄-1号-东  \n",
       "60004           上海市闵行区新桥路  "
      ]
     },
     "execution_count": 55,
     "metadata": {},
     "output_type": "execute_result"
    }
   ],
   "source": [
    "order_location_s7.head()"
   ]
  },
  {
   "cell_type": "markdown",
   "metadata": {},
   "source": [
    "#### 子数据集8"
   ]
  },
  {
   "cell_type": "code",
   "execution_count": 56,
   "metadata": {},
   "outputs": [
    {
     "name": "stdout",
     "output_type": "stream",
     "text": [
      "<class 'pandas.core.frame.DataFrame'>\n",
      "RangeIndex: 10000 entries, 70000 to 79999\n",
      "Data columns (total 5 columns):\n",
      "orderid    10000 non-null int64\n",
      "first_x    10000 non-null float64\n",
      "first_y    10000 non-null float64\n",
      "last_x     10000 non-null float64\n",
      "last_y     10000 non-null float64\n",
      "dtypes: float64(4), int64(1)\n",
      "memory usage: 390.7 KB\n"
     ]
    }
   ],
   "source": [
    "order_location_s8 = order_location.iloc[70000:80000, :]\n",
    "order_location_s8 = order_location_s8.copy()\n",
    "order_location_s8.info()"
   ]
  },
  {
   "cell_type": "code",
   "execution_count": 58,
   "metadata": {},
   "outputs": [],
   "source": [
    "order_location_s8['start_loc'] =order_location_s8.apply(lambda x: geolocator.reverse(query=(x[2], x[1])).address.decode('utf-8'), axis = 1)"
   ]
  },
  {
   "cell_type": "code",
   "execution_count": 59,
   "metadata": {},
   "outputs": [],
   "source": [
    "order_location_s8.to_csv('py_order_location_s8.csv', na_rep='Null', header=True, index=False)"
   ]
  },
  {
   "cell_type": "code",
   "execution_count": 60,
   "metadata": {},
   "outputs": [],
   "source": [
    "order_location_s8['end_loc'] = order_location_s8.apply(lambda x: geolocator.reverse(query=(x[4], x[3])).address.decode('utf-8'), axis = 1)"
   ]
  },
  {
   "cell_type": "code",
   "execution_count": 61,
   "metadata": {},
   "outputs": [],
   "source": [
    "order_location_s8.to_csv('py_order_location_s8.csv', na_rep='Null', header=True, index=False)"
   ]
  },
  {
   "cell_type": "markdown",
   "metadata": {},
   "source": [
    "#### 子数据集9"
   ]
  },
  {
   "cell_type": "code",
   "execution_count": 62,
   "metadata": {},
   "outputs": [
    {
     "name": "stdout",
     "output_type": "stream",
     "text": [
      "<class 'pandas.core.frame.DataFrame'>\n",
      "RangeIndex: 10000 entries, 80000 to 89999\n",
      "Data columns (total 5 columns):\n",
      "orderid    10000 non-null int64\n",
      "first_x    10000 non-null float64\n",
      "first_y    10000 non-null float64\n",
      "last_x     10000 non-null float64\n",
      "last_y     10000 non-null float64\n",
      "dtypes: float64(4), int64(1)\n",
      "memory usage: 390.7 KB\n"
     ]
    }
   ],
   "source": [
    "order_location_s9 = order_location.iloc[80000:90000, :]\n",
    "order_location_s9 = order_location_s9.copy()\n",
    "order_location_s9.info()"
   ]
  },
  {
   "cell_type": "code",
   "execution_count": 63,
   "metadata": {},
   "outputs": [],
   "source": [
    "order_location_s9['start_loc'] =order_location_s9.apply(lambda x: geolocator.reverse(query=(x[2], x[1])).address.decode('utf-8'), axis = 1)"
   ]
  },
  {
   "cell_type": "code",
   "execution_count": 64,
   "metadata": {},
   "outputs": [],
   "source": [
    "order_location_s9.to_csv('py_order_location_s9.csv', na_rep='Null', header=True, index=False)"
   ]
  },
  {
   "cell_type": "code",
   "execution_count": 65,
   "metadata": {},
   "outputs": [],
   "source": [
    "order_location_s9['end_loc'] = order_location_s9.apply(lambda x: geolocator.reverse(query=(x[4], x[3])).address.decode('utf-8'), axis = 1)"
   ]
  },
  {
   "cell_type": "code",
   "execution_count": 66,
   "metadata": {},
   "outputs": [],
   "source": [
    "order_location_s9.to_csv('py_order_location_s9.csv', na_rep='Null', header=True, index=False)"
   ]
  },
  {
   "cell_type": "markdown",
   "metadata": {},
   "source": [
    "#### 子数据集10"
   ]
  },
  {
   "cell_type": "code",
   "execution_count": 67,
   "metadata": {},
   "outputs": [
    {
     "name": "stdout",
     "output_type": "stream",
     "text": [
      "<class 'pandas.core.frame.DataFrame'>\n",
      "RangeIndex: 12361 entries, 90000 to 102360\n",
      "Data columns (total 5 columns):\n",
      "orderid    12361 non-null int64\n",
      "first_x    12361 non-null float64\n",
      "first_y    12361 non-null float64\n",
      "last_x     12361 non-null float64\n",
      "last_y     12361 non-null float64\n",
      "dtypes: float64(4), int64(1)\n",
      "memory usage: 482.9 KB\n"
     ]
    }
   ],
   "source": [
    "order_location_s10 = order_location.iloc[90000:, :]\n",
    "order_location_s10 = order_location_s10.copy()\n",
    "order_location_s10.info()"
   ]
  },
  {
   "cell_type": "code",
   "execution_count": 69,
   "metadata": {},
   "outputs": [],
   "source": [
    "order_location_s10['start_loc'] =order_location_s10.apply(lambda x: geolocator.reverse(query=(x[2], x[1])).address.decode('utf-8'), axis = 1)"
   ]
  },
  {
   "cell_type": "code",
   "execution_count": 70,
   "metadata": {},
   "outputs": [],
   "source": [
    "order_location_s10.to_csv('py_order_location_s10.csv', na_rep='Null', header=True, index=False)"
   ]
  },
  {
   "cell_type": "code",
   "execution_count": 71,
   "metadata": {},
   "outputs": [],
   "source": [
    "order_location_s10['end_loc'] = order_location_s10.apply(lambda x: geolocator.reverse(query=(x[4], x[3])).address.decode('utf-8'), axis = 1)"
   ]
  },
  {
   "cell_type": "code",
   "execution_count": 72,
   "metadata": {},
   "outputs": [],
   "source": [
    "order_location_s10.to_csv('py_order_location_s10.csv', na_rep='Null', header=True, index=False)"
   ]
  },
  {
   "cell_type": "markdown",
   "metadata": {},
   "source": [
    "## 合并所有子数据集"
   ]
  },
  {
   "cell_type": "code",
   "execution_count": 73,
   "metadata": {},
   "outputs": [],
   "source": [
    "order_location_s = pd.concat([order_location_s1, order_location_s2, order_location_s3, order_location_s4, order_location_s5,\n",
    "                             order_location_s6, order_location_s7, order_location_s8, order_location_s9, order_location_s10])"
   ]
  },
  {
   "cell_type": "code",
   "execution_count": 74,
   "metadata": {},
   "outputs": [
    {
     "name": "stdout",
     "output_type": "stream",
     "text": [
      "<class 'pandas.core.frame.DataFrame'>\n",
      "RangeIndex: 102361 entries, 0 to 102360\n",
      "Data columns (total 7 columns):\n",
      "orderid      102361 non-null int64\n",
      "first_x      102361 non-null float64\n",
      "first_y      102361 non-null float64\n",
      "last_x       102361 non-null float64\n",
      "last_y       102361 non-null float64\n",
      "start_loc    102361 non-null object\n",
      "end_loc      102361 non-null object\n",
      "dtypes: float64(4), int64(1), object(2)\n",
      "memory usage: 5.5+ MB\n"
     ]
    }
   ],
   "source": [
    "order_location_s.info()"
   ]
  },
  {
   "cell_type": "code",
   "execution_count": 75,
   "metadata": {},
   "outputs": [
    {
     "data": {
      "text/html": [
       "<div>\n",
       "<style scoped>\n",
       "    .dataframe tbody tr th:only-of-type {\n",
       "        vertical-align: middle;\n",
       "    }\n",
       "\n",
       "    .dataframe tbody tr th {\n",
       "        vertical-align: top;\n",
       "    }\n",
       "\n",
       "    .dataframe thead th {\n",
       "        text-align: right;\n",
       "    }\n",
       "</style>\n",
       "<table border=\"1\" class=\"dataframe\">\n",
       "  <thead>\n",
       "    <tr style=\"text-align: right;\">\n",
       "      <th></th>\n",
       "      <th>orderid</th>\n",
       "      <th>first_x</th>\n",
       "      <th>first_y</th>\n",
       "      <th>last_x</th>\n",
       "      <th>last_y</th>\n",
       "      <th>start_loc</th>\n",
       "      <th>end_loc</th>\n",
       "    </tr>\n",
       "  </thead>\n",
       "  <tbody>\n",
       "    <tr>\n",
       "      <th>0</th>\n",
       "      <td>78387</td>\n",
       "      <td>121.347</td>\n",
       "      <td>31.392</td>\n",
       "      <td>121.357</td>\n",
       "      <td>31.389</td>\n",
       "      <td>上海市宝山区美安路</td>\n",
       "      <td>上海市宝山区金中路</td>\n",
       "    </tr>\n",
       "    <tr>\n",
       "      <th>1</th>\n",
       "      <td>891333</td>\n",
       "      <td>121.489</td>\n",
       "      <td>31.270</td>\n",
       "      <td>121.508</td>\n",
       "      <td>31.279</td>\n",
       "      <td>上海市虹口区四川北路2075号</td>\n",
       "      <td>上海市虹口区阜新路180弄1号西</td>\n",
       "    </tr>\n",
       "    <tr>\n",
       "      <th>2</th>\n",
       "      <td>1106623</td>\n",
       "      <td>121.381</td>\n",
       "      <td>31.251</td>\n",
       "      <td>121.407</td>\n",
       "      <td>31.249</td>\n",
       "      <td>上海市嘉定区吉镇路</td>\n",
       "      <td>上海市普陀区杨柳青路</td>\n",
       "    </tr>\n",
       "    <tr>\n",
       "      <th>3</th>\n",
       "      <td>1389484</td>\n",
       "      <td>121.471</td>\n",
       "      <td>31.325</td>\n",
       "      <td>121.484</td>\n",
       "      <td>31.320</td>\n",
       "      <td>上海市闸北区阳泉路693号</td>\n",
       "      <td>上海市虹口区安汾路588号</td>\n",
       "    </tr>\n",
       "    <tr>\n",
       "      <th>4</th>\n",
       "      <td>188537</td>\n",
       "      <td>121.407</td>\n",
       "      <td>31.291</td>\n",
       "      <td>121.418</td>\n",
       "      <td>31.288</td>\n",
       "      <td>上海市普陀区汶水路</td>\n",
       "      <td>上海市宝山区真华路1376号</td>\n",
       "    </tr>\n",
       "  </tbody>\n",
       "</table>\n",
       "</div>"
      ],
      "text/plain": [
       "   orderid  first_x  first_y   last_x  last_y        start_loc  \\\n",
       "0    78387  121.347   31.392  121.357  31.389        上海市宝山区美安路   \n",
       "1   891333  121.489   31.270  121.508  31.279  上海市虹口区四川北路2075号   \n",
       "2  1106623  121.381   31.251  121.407  31.249        上海市嘉定区吉镇路   \n",
       "3  1389484  121.471   31.325  121.484  31.320    上海市闸北区阳泉路693号   \n",
       "4   188537  121.407   31.291  121.418  31.288        上海市普陀区汶水路   \n",
       "\n",
       "            end_loc  \n",
       "0         上海市宝山区金中路  \n",
       "1  上海市虹口区阜新路180弄1号西  \n",
       "2        上海市普陀区杨柳青路  \n",
       "3     上海市虹口区安汾路588号  \n",
       "4    上海市宝山区真华路1376号  "
      ]
     },
     "execution_count": 75,
     "metadata": {},
     "output_type": "execute_result"
    }
   ],
   "source": [
    "order_location_s.head()"
   ]
  },
  {
   "cell_type": "code",
   "execution_count": 76,
   "metadata": {},
   "outputs": [],
   "source": [
    "order_location_s.to_csv('py_order_location_s.csv', na_rep='Null', header=True, index=False)"
   ]
  },
  {
   "cell_type": "code",
   "execution_count": null,
   "metadata": {},
   "outputs": [],
   "source": []
  }
 ],
 "metadata": {
  "kernelspec": {
   "display_name": "Python 3",
   "language": "python",
   "name": "python3"
  },
  "language_info": {
   "codemirror_mode": {
    "name": "ipython",
    "version": 3
   },
   "file_extension": ".py",
   "mimetype": "text/x-python",
   "name": "python",
   "nbconvert_exporter": "python",
   "pygments_lexer": "ipython3",
   "version": "3.7.2"
  }
 },
 "nbformat": 4,
 "nbformat_minor": 2
}
